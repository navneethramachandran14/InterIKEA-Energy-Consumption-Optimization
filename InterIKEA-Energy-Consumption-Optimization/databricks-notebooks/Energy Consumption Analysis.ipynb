{
 "cells": [
  {
   "cell_type": "code",
   "execution_count": null,
   "metadata": {
    "application/vnd.databricks.v1+cell": {
     "cellMetadata": {
      "byteLimit": 2048000,
      "rowLimit": 10000
     },
     "inputWidgets": {},
     "nuid": "a62fd366-7153-4457-842b-17f153698249",
     "showTitle": false,
     "tableResultSettingsMap": {},
     "title": ""
    }
   },
   "outputs": [
    {
     "data": {
      "text/html": [
       "<style scoped>\n",
       "  .table-result-container {\n",
       "    max-height: 300px;\n",
       "    overflow: auto;\n",
       "  }\n",
       "  table, th, td {\n",
       "    border: 1px solid black;\n",
       "    border-collapse: collapse;\n",
       "  }\n",
       "  th, td {\n",
       "    padding: 5px;\n",
       "  }\n",
       "  th {\n",
       "    text-align: left;\n",
       "  }\n",
       "</style><div class='table-result-container'><table class='table-result'><thead style='background-color: white'><tr><th>path</th><th>name</th><th>size</th><th>modificationTime</th></tr></thead><tbody><tr><td>dbfs:/mnt/rawdata/ikea_energy_consumption.csv</td><td>ikea_energy_consumption.csv</td><td>5704</td><td>1733141570000</td></tr></tbody></table></div>"
      ]
     },
     "metadata": {
      "application/vnd.databricks.v1+output": {
       "addedWidgets": {},
       "aggData": [],
       "aggError": "",
       "aggOverflow": false,
       "aggSchema": [],
       "aggSeriesLimitReached": false,
       "aggType": "",
       "arguments": {},
       "columnCustomDisplayInfos": {},
       "data": [
        [
         "dbfs:/mnt/rawdata/ikea_energy_consumption.csv",
         "ikea_energy_consumption.csv",
         5704,
         1733141570000
        ]
       ],
       "datasetInfos": [],
       "dbfsResultPath": null,
       "isJsonSchema": true,
       "metadata": {},
       "overflow": false,
       "plotOptions": {
        "customPlotOptions": {},
        "displayType": "table",
        "pivotAggregation": null,
        "pivotColumns": null,
        "xColumns": null,
        "yColumns": null
       },
       "removedWidgets": [],
       "schema": [
        {
         "metadata": "{}",
         "name": "path",
         "type": "\"string\""
        },
        {
         "metadata": "{}",
         "name": "name",
         "type": "\"string\""
        },
        {
         "metadata": "{}",
         "name": "size",
         "type": "\"long\""
        },
        {
         "metadata": "{}",
         "name": "modificationTime",
         "type": "\"long\""
        }
       ],
       "type": "table"
      }
     },
     "output_type": "display_data"
    }
   ],
   "source": [
    "# Setting the parameters\n",
    "storage_account_name = \"energyoptstor\"  # storage account name\n",
    "container_name = \"raw-data\"             # container name\n",
    "storage_account_key = \"MASKED\"  # storage account key\n",
    "\n",
    "# Define the URI for the Blob Storage\n",
    "blob_url = f\"wasbs://{container_name}@{storage_account_name}.blob.core.windows.net/\"\n",
    "\n",
    "# Mount the storage to Databricks\n",
    "dbutils.fs.mount(\n",
    "  source = blob_url,\n",
    "  mount_point = \"/mnt/rawdata\",  # Mount point\n",
    "  extra_configs = {\n",
    "    f\"fs.azure.account.key.{storage_account_name}.blob.core.windows.net\": storage_account_key\n",
    "  }\n",
    ")\n",
    "\n",
    "# Mount verification\n",
    "display(dbutils.fs.ls(\"/mnt/rawdata\"))\n"
   ]
  },
  {
   "cell_type": "code",
   "execution_count": null,
   "metadata": {
    "application/vnd.databricks.v1+cell": {
     "cellMetadata": {
      "byteLimit": 2048000,
      "rowLimit": 10000
     },
     "inputWidgets": {},
     "nuid": "795a55fa-3a83-4e7f-84a8-83dec61b8f00",
     "showTitle": false,
     "tableResultSettingsMap": {},
     "title": ""
    }
   },
   "outputs": [
    {
     "name": "stdout",
     "output_type": "stream",
     "text": [
      "+----------+----------+----------------------+\n",
      "|      Date|Department|EnergyConsumption(kWh)|\n",
      "+----------+----------+----------------------+\n",
      "|2024-11-01|  Lighting|     337.7420593060477|\n",
      "|2024-11-01|      HVAC|     61.25483985020012|\n",
      "|2024-11-01|Appliances|    173.76319326610366|\n",
      "|2024-11-01|    Office|    150.44483216697023|\n",
      "|2024-11-01| Warehouse|     381.4120463738056|\n",
      "+----------+----------+----------------------+\n",
      "only showing top 5 rows\n",
      "\n"
     ]
    }
   ],
   "source": [
    "# Loading the dataset into a Spark DataFrame\n",
    "file_path = \"/mnt/rawdata/ikea_energy_consumption.csv\"\n",
    "df = spark.read.csv(file_path, header=True, inferSchema=True)\n",
    "\n",
    "# DataFrame verification\n",
    "df.show(5)\n"
   ]
  },
  {
   "cell_type": "code",
   "execution_count": null,
   "metadata": {
    "application/vnd.databricks.v1+cell": {
     "cellMetadata": {
      "byteLimit": 2048000,
      "rowLimit": 10000
     },
     "inputWidgets": {},
     "nuid": "f368607e-f07c-4c26-98d2-741b378ff2a1",
     "showTitle": false,
     "tableResultSettingsMap": {},
     "title": ""
    }
   },
   "outputs": [
    {
     "data": {
      "text/html": [
       "<style scoped>\n",
       "  .table-result-container {\n",
       "    max-height: 300px;\n",
       "    overflow: auto;\n",
       "  }\n",
       "  table, th, td {\n",
       "    border: 1px solid black;\n",
       "    border-collapse: collapse;\n",
       "  }\n",
       "  th, td {\n",
       "    padding: 5px;\n",
       "  }\n",
       "  th {\n",
       "    text-align: left;\n",
       "  }\n",
       "</style><div class='table-result-container'><table class='table-result'><thead style='background-color: white'><tr><th>Date</th><th>Department</th><th>EnergyConsumption(kWh)</th></tr></thead><tbody><tr><td>0</td><td>0</td><td>0</td></tr></tbody></table></div>"
      ]
     },
     "metadata": {
      "application/vnd.databricks.v1+output": {
       "addedWidgets": {},
       "aggData": [],
       "aggError": "",
       "aggOverflow": false,
       "aggSchema": [],
       "aggSeriesLimitReached": false,
       "aggType": "",
       "arguments": {},
       "columnCustomDisplayInfos": {},
       "data": [
        [
         0,
         0,
         0
        ]
       ],
       "datasetInfos": [],
       "dbfsResultPath": null,
       "isJsonSchema": true,
       "metadata": {},
       "overflow": false,
       "plotOptions": {
        "customPlotOptions": {},
        "displayType": "table",
        "pivotAggregation": null,
        "pivotColumns": null,
        "xColumns": null,
        "yColumns": null
       },
       "removedWidgets": [],
       "schema": [
        {
         "metadata": "{}",
         "name": "Date",
         "type": "\"long\""
        },
        {
         "metadata": "{}",
         "name": "Department",
         "type": "\"long\""
        },
        {
         "metadata": "{}",
         "name": "EnergyConsumption(kWh)",
         "type": "\"long\""
        }
       ],
       "type": "table"
      }
     },
     "output_type": "display_data"
    }
   ],
   "source": [
    "%python\n",
    "from pyspark.sql.functions import col, sum as _sum\n",
    "\n",
    "# Check for missing values\n",
    "missing_values = df.select(\n",
    "    [_sum(col(c).isNull().cast(\"int\")).alias(c) for c in df.columns]\n",
    ")\n",
    "display(missing_values)"
   ]
  },
  {
   "cell_type": "code",
   "execution_count": null,
   "metadata": {
    "application/vnd.databricks.v1+cell": {
     "cellMetadata": {
      "byteLimit": 2048000,
      "rowLimit": 10000
     },
     "inputWidgets": {},
     "nuid": "f726eec4-acbf-4d7c-868d-135f0c4a5374",
     "showTitle": false,
     "tableResultSettingsMap": {},
     "title": ""
    }
   },
   "outputs": [],
   "source": [
    "# Remove duplicates (if any)\n",
    "df = df.dropDuplicates()\n",
    "\n",
    "# Clean column names (e.g., remove spaces or special characters)\n",
    "df = df.select([col(c).alias(c.replace(\" \", \"_\").replace(\"-\", \"_\")) for c in df.columns])\n"
   ]
  },
  {
   "cell_type": "code",
   "execution_count": null,
   "metadata": {
    "application/vnd.databricks.v1+cell": {
     "cellMetadata": {
      "byteLimit": 2048000,
      "rowLimit": 10000
     },
     "inputWidgets": {},
     "nuid": "60a5f8c8-c89d-4a35-bc38-7c6401c4b1f8",
     "showTitle": false,
     "tableResultSettingsMap": {},
     "title": ""
    }
   },
   "outputs": [
    {
     "data": {
      "text/html": [
       "<style scoped>\n",
       "  .table-result-container {\n",
       "    max-height: 300px;\n",
       "    overflow: auto;\n",
       "  }\n",
       "  table, th, td {\n",
       "    border: 1px solid black;\n",
       "    border-collapse: collapse;\n",
       "  }\n",
       "  th, td {\n",
       "    padding: 5px;\n",
       "  }\n",
       "  th {\n",
       "    text-align: left;\n",
       "  }\n",
       "</style><div class='table-result-container'><table class='table-result'><thead style='background-color: white'><tr><th>date</th><th>sum(EnergyConsumption(kWh))</th></tr></thead><tbody><tr><td>2024-11-02</td><td>1198.3916170962311</td></tr><tr><td>2024-11-25</td><td>1425.1488447168053</td></tr><tr><td>2024-11-23</td><td>1478.9985208245407</td></tr><tr><td>2024-11-29</td><td>1413.5711118189454</td></tr><tr><td>2024-11-27</td><td>1274.2233048100431</td></tr><tr><td>2024-11-05</td><td>1580.6057809109154</td></tr><tr><td>2024-11-15</td><td>1600.1695287193336</td></tr><tr><td>2024-11-14</td><td>979.1539681521274</td></tr><tr><td>2024-11-06</td><td>1139.7747233682653</td></tr><tr><td>2024-11-07</td><td>1791.1322316747805</td></tr><tr><td>2024-11-30</td><td>1147.2517231009485</td></tr><tr><td>2024-11-20</td><td>1932.420891262249</td></tr><tr><td>2024-11-09</td><td>856.3634962215402</td></tr><tr><td>2024-11-18</td><td>1088.984701117324</td></tr><tr><td>2024-11-08</td><td>1797.5608420561032</td></tr><tr><td>2024-11-11</td><td>1344.110106803457</td></tr><tr><td>2024-11-13</td><td>1921.272561450258</td></tr><tr><td>2024-11-26</td><td>1592.4034702777687</td></tr><tr><td>2024-11-16</td><td>1276.2425579112892</td></tr><tr><td>2024-11-17</td><td>1467.6636047436255</td></tr><tr><td>2024-11-24</td><td>1406.3750512626452</td></tr><tr><td>2024-11-01</td><td>1104.6169709631272</td></tr><tr><td>2024-11-21</td><td>1247.9689288109173</td></tr><tr><td>2024-11-10</td><td>975.5271439519012</td></tr><tr><td>2024-11-28</td><td>1244.5139683820407</td></tr><tr><td>2024-11-04</td><td>1226.7596512940693</td></tr><tr><td>2024-11-19</td><td>1156.6879942157595</td></tr><tr><td>2024-11-03</td><td>969.6630944756505</td></tr><tr><td>2024-11-22</td><td>1417.6684855127842</td></tr><tr><td>2024-11-12</td><td>1173.5144743007547</td></tr></tbody></table></div>"
      ]
     },
     "metadata": {
      "application/vnd.databricks.v1+output": {
       "addedWidgets": {},
       "aggData": [],
       "aggError": "",
       "aggOverflow": false,
       "aggSchema": [],
       "aggSeriesLimitReached": false,
       "aggType": "",
       "arguments": {},
       "columnCustomDisplayInfos": {},
       "data": [
        [
         "2024-11-02",
         1198.3916170962311
        ],
        [
         "2024-11-25",
         1425.1488447168053
        ],
        [
         "2024-11-23",
         1478.9985208245407
        ],
        [
         "2024-11-29",
         1413.5711118189454
        ],
        [
         "2024-11-27",
         1274.2233048100431
        ],
        [
         "2024-11-05",
         1580.6057809109154
        ],
        [
         "2024-11-15",
         1600.1695287193336
        ],
        [
         "2024-11-14",
         979.1539681521274
        ],
        [
         "2024-11-06",
         1139.7747233682653
        ],
        [
         "2024-11-07",
         1791.1322316747805
        ],
        [
         "2024-11-30",
         1147.2517231009485
        ],
        [
         "2024-11-20",
         1932.420891262249
        ],
        [
         "2024-11-09",
         856.3634962215402
        ],
        [
         "2024-11-18",
         1088.984701117324
        ],
        [
         "2024-11-08",
         1797.5608420561032
        ],
        [
         "2024-11-11",
         1344.110106803457
        ],
        [
         "2024-11-13",
         1921.272561450258
        ],
        [
         "2024-11-26",
         1592.4034702777687
        ],
        [
         "2024-11-16",
         1276.2425579112892
        ],
        [
         "2024-11-17",
         1467.6636047436255
        ],
        [
         "2024-11-24",
         1406.3750512626452
        ],
        [
         "2024-11-01",
         1104.6169709631272
        ],
        [
         "2024-11-21",
         1247.9689288109173
        ],
        [
         "2024-11-10",
         975.5271439519012
        ],
        [
         "2024-11-28",
         1244.5139683820407
        ],
        [
         "2024-11-04",
         1226.7596512940693
        ],
        [
         "2024-11-19",
         1156.6879942157595
        ],
        [
         "2024-11-03",
         969.6630944756505
        ],
        [
         "2024-11-22",
         1417.6684855127842
        ],
        [
         "2024-11-12",
         1173.5144743007547
        ]
       ],
       "datasetInfos": [],
       "dbfsResultPath": null,
       "isJsonSchema": true,
       "metadata": {},
       "overflow": false,
       "plotOptions": {
        "customPlotOptions": {},
        "displayType": "table",
        "pivotAggregation": null,
        "pivotColumns": null,
        "xColumns": null,
        "yColumns": null
       },
       "removedWidgets": [],
       "schema": [
        {
         "metadata": "{\"__detected_date_formats\":\"yyyy-M-d\"}",
         "name": "date",
         "type": "\"date\""
        },
        {
         "metadata": "{}",
         "name": "sum(EnergyConsumption(kWh))",
         "type": "\"double\""
        }
       ],
       "type": "table"
      }
     },
     "output_type": "display_data"
    }
   ],
   "source": [
    "%python\n",
    "# Group by date and sum energy consumption\n",
    "df_grouped = df.groupBy(\"date\").agg({\"EnergyConsumption(kWh)\": \"sum\"})\n",
    "display(df_grouped)"
   ]
  },
  {
   "cell_type": "code",
   "execution_count": null,
   "metadata": {
    "application/vnd.databricks.v1+cell": {
     "cellMetadata": {
      "byteLimit": 2048000,
      "rowLimit": 10000
     },
     "inputWidgets": {},
     "nuid": "03ff7522-b7cd-4b5c-8e26-a29054bcea44",
     "showTitle": false,
     "tableResultSettingsMap": {},
     "title": ""
    }
   },
   "outputs": [
    {
     "name": "stdout",
     "output_type": "stream",
     "text": [
      "+-------+----------+----------------------+\n",
      "|summary|Department|EnergyConsumption(kWh)|\n",
      "+-------+----------+----------------------+\n",
      "|  count|       150|                   150|\n",
      "|   mean|      NULL|     268.1915956680413|\n",
      "| stddev|      NULL|    132.68977504420113|\n",
      "|    min|Appliances|     50.25735325757458|\n",
      "|    max| Warehouse|     498.8919229227996|\n",
      "+-------+----------+----------------------+\n",
      "\n"
     ]
    }
   ],
   "source": [
    "# Summary statistics\n",
    "df.describe().show()\n"
   ]
  },
  {
   "cell_type": "code",
   "execution_count": null,
   "metadata": {
    "application/vnd.databricks.v1+cell": {
     "cellMetadata": {
      "byteLimit": 2048000,
      "rowLimit": 10000
     },
     "inputWidgets": {},
     "nuid": "01144770-a069-4014-b929-7d4155e102ed",
     "showTitle": false,
     "tableResultSettingsMap": {},
     "title": ""
    }
   },
   "outputs": [
    {
     "data": {
      "text/html": [
       "<style scoped>\n",
       "  .table-result-container {\n",
       "    max-height: 300px;\n",
       "    overflow: auto;\n",
       "  }\n",
       "  table, th, td {\n",
       "    border: 1px solid black;\n",
       "    border-collapse: collapse;\n",
       "  }\n",
       "  th, td {\n",
       "    padding: 5px;\n",
       "  }\n",
       "  th {\n",
       "    text-align: left;\n",
       "  }\n",
       "</style><div class='table-result-container'><table class='table-result'><thead style='background-color: white'><tr><th>Date</th><th>Department</th><th>energy_consumption</th><th>DepartmentIndex</th><th>feature</th><th>prediction</th></tr></thead><tbody><tr><td>1730592000</td><td>Office</td><td>139.47694280899182</td><td>3.0</td><td>Map(vectorType -> dense, length -> 2, values -> List(1.730592E9, 3.0))</td><td>254.3503576659714</td></tr><tr><td>1731715200</td><td>Appliances</td><td>256.48333366432945</td><td>0.0</td><td>Map(vectorType -> dense, length -> 2, values -> List(1.7317152E9, 0.0))</td><td>272.0981793894207</td></tr><tr><td>1732060800</td><td>Office</td><td>486.9852699261282</td><td>3.0</td><td>Map(vectorType -> dense, length -> 2, values -> List(1.7320608E9, 3.0))</td><td>270.8479155764544</td></tr><tr><td>1732924800</td><td>Lighting</td><td>145.30919244893693</td><td>2.0</td><td>Map(vectorType -> dense, length -> 2, values -> List(1.7329248E9, 2.0))</td><td>282.2630421210961</td></tr><tr><td>1732060800</td><td>HVAC</td><td>498.2546211080435</td><td>1.0</td><td>Map(vectorType -> dense, length -> 2, values -> List(1.7320608E9, 1.0))</td><td>274.26927700635133</td></tr><tr><td>1732752000</td><td>Appliances</td><td>392.2709743657542</td><td>0.0</td><td>Map(vectorType -> dense, length -> 2, values -> List(1.732752E9, 0.0))</td><td>283.7435143850562</td></tr><tr><td>1730678400</td><td>Warehouse</td><td>52.924441855127455</td><td>4.0</td><td>Map(vectorType -> dense, length -> 2, values -> List(1.7306784E9, 4.0))</td><td>253.61012153399497</td></tr><tr><td>1731801600</td><td>Appliances</td><td>313.06369560059323</td><td>0.0</td><td>Map(vectorType -> dense, length -> 2, values -> List(1.7318016E9, 0.0))</td><td>273.0686239723909</td></tr><tr><td>1732924800</td><td>Warehouse</td><td>190.27233108540273</td><td>4.0</td><td>Map(vectorType -> dense, length -> 2, values -> List(1.7329248E9, 4.0))</td><td>278.8416806912028</td></tr><tr><td>1730505600</td><td>Office</td><td>239.8648188583717</td><td>3.0</td><td>Map(vectorType -> dense, length -> 2, values -> List(1.7305056E9, 3.0))</td><td>253.37991308300116</td></tr><tr><td>1731110400</td><td>Warehouse</td><td>85.90638961563238</td><td>4.0</td><td>Map(vectorType -> dense, length -> 2, values -> List(1.7311104E9, 4.0))</td><td>258.4623444488425</td></tr><tr><td>1730419200</td><td>Lighting</td><td>337.7420593060477</td><td>2.0</td><td>Map(vectorType -> dense, length -> 2, values -> List(1.7304192E9, 2.0))</td><td>254.1201492149812</td></tr><tr><td>1732492800</td><td>Lighting</td><td>393.1298600338181</td><td>2.0</td><td>Map(vectorType -> dense, length -> 2, values -> List(1.7324928E9, 2.0))</td><td>277.41081920624856</td></tr><tr><td>1730419200</td><td>Appliances</td><td>173.76319326610366</td><td>0.0</td><td>Map(vectorType -> dense, length -> 2, values -> List(1.7304192E9, 0.0))</td><td>257.54151064487814</td></tr><tr><td>1730764800</td><td>Lighting</td><td>412.61866332476353</td><td>2.0</td><td>Map(vectorType -> dense, length -> 2, values -> List(1.7307648E9, 2.0))</td><td>258.0019275468585</td></tr><tr><td>1731888000</td><td>Office</td><td>90.90923547820725</td><td>3.0</td><td>Map(vectorType -> dense, length -> 2, values -> List(1.731888E9, 3.0))</td><td>268.90702641051394</td></tr><tr><td>1732665600</td><td>Office</td><td>476.12725038409735</td><td>3.0</td><td>Map(vectorType -> dense, length -> 2, values -> List(1.7326656E9, 3.0))</td><td>277.6410276572424</td></tr><tr><td>1731024000</td><td>Office</td><td>437.76810513984975</td><td>3.0</td><td>Map(vectorType -> dense, length -> 2, values -> List(1.731024E9, 3.0))</td><td>259.2025805808189</td></tr><tr><td>1732233600</td><td>HVAC</td><td>100.1984781181444</td><td>1.0</td><td>Map(vectorType -> dense, length -> 2, values -> List(1.7322336E9, 1.0))</td><td>276.2101661722918</td></tr><tr><td>1731024000</td><td>Appliances</td><td>328.3338885639107</td><td>0.0</td><td>Map(vectorType -> dense, length -> 2, values -> List(1.731024E9, 0.0))</td><td>264.3346227256625</td></tr><tr><td>1731628800</td><td>Lighting</td><td>144.9422796138469</td><td>2.0</td><td>Map(vectorType -> dense, length -> 2, values -> List(1.7316288E9, 2.0))</td><td>267.70637337655353</td></tr><tr><td>1731283200</td><td>HVAC</td><td>144.27816384716948</td><td>1.0</td><td>Map(vectorType -> dense, length -> 2, values -> List(1.7312832E9, 1.0))</td><td>265.53527575962653</td></tr><tr><td>1731283200</td><td>Office</td><td>471.4945644706223</td><td>3.0</td><td>Map(vectorType -> dense, length -> 2, values -> List(1.7312832E9, 3.0))</td><td>262.1139143297296</td></tr><tr><td>1731196800</td><td>Office</td><td>336.0579999189801</td><td>3.0</td><td>Map(vectorType -> dense, length -> 2, values -> List(1.7311968E9, 3.0))</td><td>261.14346974675937</td></tr><tr><td>1732060800</td><td>Appliances</td><td>288.1014552946117</td><td>0.0</td><td>Map(vectorType -> dense, length -> 2, values -> List(1.7320608E9, 0.0))</td><td>275.979957721298</td></tr><tr><td>1732147200</td><td>Appliances</td><td>356.7696660619587</td><td>0.0</td><td>Map(vectorType -> dense, length -> 2, values -> List(1.7321472E9, 0.0))</td><td>276.9504023042682</td></tr><tr><td>1732752000</td><td>Office</td><td>394.6254931881445</td><td>3.0</td><td>Map(vectorType -> dense, length -> 2, values -> List(1.732752E9, 3.0))</td><td>278.6114722402126</td></tr><tr><td>1731110400</td><td>HVAC</td><td>70.620972645048</td><td>1.0</td><td>Map(vectorType -> dense, length -> 2, values -> List(1.7311104E9, 1.0))</td><td>263.59438659368607</td></tr><tr><td>1732492800</td><td>Warehouse</td><td>50.25735325757458</td><td>4.0</td><td>Map(vectorType -> dense, length -> 2, values -> List(1.7324928E9, 4.0))</td><td>273.98945777635527</td></tr><tr><td>1731542400</td><td>Lighting</td><td>399.19996019581015</td><td>2.0</td><td>Map(vectorType -> dense, length -> 2, values -> List(1.7315424E9, 2.0))</td><td>266.7359287935833</td></tr><tr><td>1732838400</td><td>Warehouse</td><td>240.4120730903991</td><td>4.0</td><td>Map(vectorType -> dense, length -> 2, values -> List(1.7328384E9, 4.0))</td><td>277.87123610823255</td></tr><tr><td>1730937600</td><td>HVAC</td><td>378.37930401221803</td><td>1.0</td><td>Map(vectorType -> dense, length -> 2, values -> List(1.7309376E9, 1.0))</td><td>261.65349742774924</td></tr><tr><td>1732492800</td><td>HVAC</td><td>292.72056355383154</td><td>1.0</td><td>Map(vectorType -> dense, length -> 2, values -> List(1.7324928E9, 1.0))</td><td>279.12149992119885</td></tr><tr><td>1731283200</td><td>Warehouse</td><td>341.6159233609671</td><td>4.0</td><td>Map(vectorType -> dense, length -> 2, values -> List(1.7312832E9, 4.0))</td><td>260.40323361478295</td></tr><tr><td>1732665600</td><td>Appliances</td><td>445.1043196418182</td><td>0.0</td><td>Map(vectorType -> dense, length -> 2, values -> List(1.7326656E9, 0.0))</td><td>282.77306980208596</td></tr><tr><td>1730851200</td><td>Office</td><td>431.3724648563569</td><td>3.0</td><td>Map(vectorType -> dense, length -> 2, values -> List(1.7308512E9, 3.0))</td><td>257.2616914148821</td></tr><tr><td>1731283200</td><td>Lighting</td><td>216.5814352025972</td><td>2.0</td><td>Map(vectorType -> dense, length -> 2, values -> List(1.7312832E9, 2.0))</td><td>263.82459504467624</td></tr><tr><td>1730505600</td><td>Lighting</td><td>354.51476934031007</td><td>2.0</td><td>Map(vectorType -> dense, length -> 2, values -> List(1.7305056E9, 2.0))</td><td>255.0905937979478</td></tr><tr><td>1730937600</td><td>Appliances</td><td>291.30264115461534</td><td>0.0</td><td>Map(vectorType -> dense, length -> 2, values -> List(1.7309376E9, 0.0))</td><td>263.3641781426959</td></tr><tr><td>1732752000</td><td>HVAC</td><td>81.14563331077262</td><td>1.0</td><td>Map(vectorType -> dense, length -> 2, values -> List(1.732752E9, 1.0))</td><td>282.03283367010954</td></tr><tr><td>1730592000</td><td>Lighting</td><td>148.38708866162153</td><td>2.0</td><td>Map(vectorType -> dense, length -> 2, values -> List(1.730592E9, 2.0))</td><td>256.06103838091803</td></tr><tr><td>1731888000</td><td>Warehouse</td><td>71.20236894113056</td><td>4.0</td><td>Map(vectorType -> dense, length -> 2, values -> List(1.731888E9, 4.0))</td><td>267.1963456955673</td></tr><tr><td>1731628800</td><td>Office</td><td>191.60504635931505</td><td>3.0</td><td>Map(vectorType -> dense, length -> 2, values -> List(1.7316288E9, 3.0))</td><td>265.9956926616069</td></tr><tr><td>1732665600</td><td>HVAC</td><td>76.0663249223844</td><td>1.0</td><td>Map(vectorType -> dense, length -> 2, values -> List(1.7326656E9, 1.0))</td><td>281.0623890871393</td></tr><tr><td>1730764800</td><td>Appliances</td><td>203.11273243309634</td><td>0.0</td><td>Map(vectorType -> dense, length -> 2, values -> List(1.7307648E9, 0.0))</td><td>261.42328897675543</td></tr><tr><td>1731369600</td><td>HVAC</td><td>127.01239168914364</td><td>1.0</td><td>Map(vectorType -> dense, length -> 2, values -> List(1.7313696E9, 1.0))</td><td>266.50572034259676</td></tr><tr><td>1730505600</td><td>Warehouse</td><td>63.40874874713165</td><td>4.0</td><td>Map(vectorType -> dense, length -> 2, values -> List(1.7305056E9, 4.0))</td><td>251.6692323680545</td></tr><tr><td>1730764800</td><td>Office</td><td>119.9657749153017</td><td>3.0</td><td>Map(vectorType -> dense, length -> 2, values -> List(1.7307648E9, 3.0))</td><td>256.29124683191185</td></tr><tr><td>1732320000</td><td>Lighting</td><td>444.1338231701873</td><td>2.0</td><td>Map(vectorType -> dense, length -> 2, values -> List(1.73232E9, 2.0))</td><td>275.4699300403081</td></tr><tr><td>1730851200</td><td>Lighting</td><td>201.46754530068205</td><td>2.0</td><td>Map(vectorType -> dense, length -> 2, values -> List(1.7308512E9, 2.0))</td><td>258.9723721298287</td></tr><tr><td>1732147200</td><td>Warehouse</td><td>170.07133547864424</td><td>4.0</td><td>Map(vectorType -> dense, length -> 2, values -> List(1.7321472E9, 4.0))</td><td>270.107679444478</td></tr><tr><td>1731715200</td><td>Office</td><td>169.1960749241236</td><td>3.0</td><td>Map(vectorType -> dense, length -> 2, values -> List(1.7317152E9, 3.0))</td><td>266.9661372445771</td></tr><tr><td>1730419200</td><td>Warehouse</td><td>381.4120463738056</td><td>4.0</td><td>Map(vectorType -> dense, length -> 2, values -> List(1.7304192E9, 4.0))</td><td>250.69878778508792</td></tr><tr><td>1730678400</td><td>HVAC</td><td>149.19827991831352</td><td>1.0</td><td>Map(vectorType -> dense, length -> 2, values -> List(1.7306784E9, 1.0))</td><td>258.74216367883855</td></tr><tr><td>1730851200</td><td>Warehouse</td><td>321.676714115101</td><td>4.0</td><td>Map(vectorType -> dense, length -> 2, values -> List(1.7308512E9, 4.0))</td><td>255.55101069993543</td></tr><tr><td>1732665600</td><td>Warehouse</td><td>88.54405343054545</td><td>4.0</td><td>Map(vectorType -> dense, length -> 2, values -> List(1.7326656E9, 4.0))</td><td>275.9303469422957</td></tr><tr><td>1731024000</td><td>Warehouse</td><td>309.80846536554293</td><td>4.0</td><td>Map(vectorType -> dense, length -> 2, values -> List(1.731024E9, 4.0))</td><td>257.49189986587226</td></tr><tr><td>1731369600</td><td>Lighting</td><td>324.1089525501447</td><td>2.0</td><td>Map(vectorType -> dense, length -> 2, values -> List(1.7313696E9, 2.0))</td><td>264.7950396276465</td></tr><tr><td>1731801600</td><td>HVAC</td><td>168.23372383532086</td><td>1.0</td><td>Map(vectorType -> dense, length -> 2, values -> List(1.7318016E9, 1.0))</td><td>271.3579432574443</td></tr><tr><td>1732752000</td><td>Lighting</td><td>268.69570849247623</td><td>2.0</td><td>Map(vectorType -> dense, length -> 2, values -> List(1.732752E9, 2.0))</td><td>280.32215295515925</td></tr><tr><td>1731888000</td><td>Lighting</td><td>148.6943416207775</td><td>2.0</td><td>Map(vectorType -> dense, length -> 2, values -> List(1.731888E9, 2.0))</td><td>270.6177071254606</td></tr><tr><td>1732406400</td><td>Appliances</td><td>337.52727268970233</td><td>0.0</td><td>Map(vectorType -> dense, length -> 2, values -> List(1.7324064E9, 0.0))</td><td>279.86173605317526</td></tr><tr><td>1731974400</td><td>Warehouse</td><td>78.5874677683807</td><td>4.0</td><td>Map(vectorType -> dense, length -> 2, values -> List(1.7319744E9, 4.0))</td><td>268.1667902785375</td></tr><tr><td>1731024000</td><td>Lighting</td><td>298.41828407295213</td><td>2.0</td><td>Map(vectorType -> dense, length -> 2, values -> List(1.731024E9, 2.0))</td><td>260.91326129576555</td></tr><tr><td>1731715200</td><td>HVAC</td><td>461.5464153832446</td><td>1.0</td><td>Map(vectorType -> dense, length -> 2, values -> List(1.7317152E9, 1.0))</td><td>270.38749867447405</td></tr><tr><td>1732924800</td><td>Appliances</td><td>378.4689810904893</td><td>0.0</td><td>Map(vectorType -> dense, length -> 2, values -> List(1.7329248E9, 0.0))</td><td>285.684403550993</td></tr><tr><td>1732665600</td><td>Lighting</td><td>188.38135643119764</td><td>2.0</td><td>Map(vectorType -> dense, length -> 2, values -> List(1.7326656E9, 2.0))</td><td>279.351708372189</td></tr><tr><td>1731283200</td><td>Appliances</td><td>170.140019922101</td><td>0.0</td><td>Map(vectorType -> dense, length -> 2, values -> List(1.7312832E9, 0.0))</td><td>267.2459564745732</td></tr><tr><td>1732838400</td><td>Appliances</td><td>169.2754830230266</td><td>0.0</td><td>Map(vectorType -> dense, length -> 2, values -> List(1.7328384E9, 0.0))</td><td>284.7139589680228</td></tr><tr><td>1731801600</td><td>Warehouse</td><td>229.73022731317877</td><td>4.0</td><td>Map(vectorType -> dense, length -> 2, values -> List(1.7318016E9, 4.0))</td><td>266.2259011126007</td></tr><tr><td>1731369600</td><td>Warehouse</td><td>220.7549487909415</td><td>4.0</td><td>Map(vectorType -> dense, length -> 2, values -> List(1.7313696E9, 4.0))</td><td>261.3736781977532</td></tr><tr><td>1732838400</td><td>Office</td><td>442.5948684883658</td><td>3.0</td><td>Map(vectorType -> dense, length -> 2, values -> List(1.7328384E9, 3.0))</td><td>279.5819168231792</td></tr><tr><td>1730851200</td><td>Appliances</td><td>93.5223695750588</td><td>0.0</td><td>Map(vectorType -> dense, length -> 2, values -> List(1.7308512E9, 0.0))</td><td>262.39373355972566</td></tr><tr><td>1732406400</td><td>Warehouse</td><td>118.77767084733567</td><td>4.0</td><td>Map(vectorType -> dense, length -> 2, values -> List(1.7324064E9, 4.0))</td><td>273.01901319338504</td></tr><tr><td>1730419200</td><td>HVAC</td><td>61.25483985020012</td><td>1.0</td><td>Map(vectorType -> dense, length -> 2, values -> List(1.7304192E9, 1.0))</td><td>255.8308299299315</td></tr><tr><td>1731369600</td><td>Office</td><td>123.53112219286777</td><td>3.0</td><td>Map(vectorType -> dense, length -> 2, values -> List(1.7313696E9, 3.0))</td><td>263.0843589126998</td></tr><tr><td>1731542400</td><td>HVAC</td><td>153.07163238384697</td><td>1.0</td><td>Map(vectorType -> dense, length -> 2, values -> List(1.7315424E9, 1.0))</td><td>268.4466095085336</td></tr><tr><td>1731974400</td><td>Office</td><td>239.97198505985781</td><td>3.0</td><td>Map(vectorType -> dense, length -> 2, values -> List(1.7319744E9, 3.0))</td><td>269.87747099348417</td></tr><tr><td>1732752000</td><td>Warehouse</td><td>107.77615902489326</td><td>4.0</td><td>Map(vectorType -> dense, length -> 2, values -> List(1.732752E9, 4.0))</td><td>276.90079152526596</td></tr><tr><td>1732924800</td><td>HVAC</td><td>292.6832399507563</td><td>1.0</td><td>Map(vectorType -> dense, length -> 2, values -> List(1.7329248E9, 1.0))</td><td>283.97372283604636</td></tr><tr><td>1731628800</td><td>HVAC</td><td>474.3093714507745</td><td>1.0</td><td>Map(vectorType -> dense, length -> 2, values -> List(1.7316288E9, 1.0))</td><td>269.4170540915038</td></tr><tr><td>1731024000</td><td>HVAC</td><td>423.23209891384766</td><td>1.0</td><td>Map(vectorType -> dense, length -> 2, values -> List(1.731024E9, 1.0))</td><td>262.62394201071584</td></tr><tr><td>1731715200</td><td>Lighting</td><td>228.03435547729893</td><td>2.0</td><td>Map(vectorType -> dense, length -> 2, values -> List(1.7317152E9, 2.0))</td><td>268.67681795952376</td></tr><tr><td>1731801600</td><td>Office</td><td>454.02029762111465</td><td>3.0</td><td>Map(vectorType -> dense, length -> 2, values -> List(1.7318016E9, 3.0))</td><td>267.93658182754734</td></tr><tr><td>1731715200</td><td>Warehouse</td><td>160.98237846229256</td><td>4.0</td><td>Map(vectorType -> dense, length -> 2, values -> List(1.7317152E9, 4.0))</td><td>265.25545652963046</td></tr><tr><td>1730592000</td><td>HVAC</td><td>277.4098796465131</td><td>1.0</td><td>Map(vectorType -> dense, length -> 2, values -> List(1.730592E9, 1.0))</td><td>257.7717190958683</td></tr><tr><td>1730592000</td><td>Warehouse</td><td>342.44799700078545</td><td>4.0</td><td>Map(vectorType -> dense, length -> 2, values -> List(1.730592E9, 4.0))</td><td>252.63967695102474</td></tr><tr><td>1731542400</td><td>Appliances</td><td>64.44510975681699</td><td>0.0</td><td>Map(vectorType -> dense, length -> 2, values -> List(1.7315424E9, 0.0))</td><td>270.15729022348023</td></tr><tr><td>1731456000</td><td>Lighting</td><td>495.28550778646786</td><td>2.0</td><td>Map(vectorType -> dense, length -> 2, values -> List(1.731456E9, 2.0))</td><td>265.76548421061307</td></tr><tr><td>1731628800</td><td>Warehouse</td><td>344.947399382696</td><td>4.0</td><td>Map(vectorType -> dense, length -> 2, values -> List(1.7316288E9, 4.0))</td><td>264.28501194666023</td></tr><tr><td>1731456000</td><td>Appliances</td><td>300.62738469859084</td><td>0.0</td><td>Map(vectorType -> dense, length -> 2, values -> List(1.731456E9, 0.0))</td><td>269.18684564051</td></tr><tr><td>1730937600</td><td>Lighting</td><td>413.2077229734711</td><td>2.0</td><td>Map(vectorType -> dense, length -> 2, values -> List(1.7309376E9, 2.0))</td><td>259.94281671279896</td></tr><tr><td>1732233600</td><td>Appliances</td><td>245.64436280109723</td><td>0.0</td><td>Map(vectorType -> dense, length -> 2, values -> List(1.7322336E9, 0.0))</td><td>277.92084688723844</td></tr><tr><td>1731456000</td><td>HVAC</td><td>337.9998919343418</td><td>1.0</td><td>Map(vectorType -> dense, length -> 2, values -> List(1.731456E9, 1.0))</td><td>267.47616492556335</td></tr><tr><td>1732320000</td><td>Office</td><td>130.3933462385591</td><td>3.0</td><td>Map(vectorType -> dense, length -> 2, values -> List(1.73232E9, 3.0))</td><td>273.75924932536145</td></tr><tr><td>1732838400</td><td>Lighting</td><td>263.8770701444291</td><td>2.0</td><td>Map(vectorType -> dense, length -> 2, values -> List(1.7328384E9, 2.0))</td><td>281.29259753812585</td></tr><tr><td>1731542400</td><td>Office</td><td>191.95387162658687</td><td>3.0</td><td>Map(vectorType -> dense, length -> 2, values -> List(1.7315424E9, 3.0))</td><td>265.02524807863665</td></tr><tr><td>1731110400</td><td>Office</td><td>180.22458362094824</td><td>3.0</td><td>Map(vectorType -> dense, length -> 2, values -> List(1.7311104E9, 3.0))</td><td>260.17302516378913</td></tr><tr><td>1730678400</td><td>Appliances</td><td>315.1695577441589</td><td>0.0</td><td>Map(vectorType -> dense, length -> 2, values -> List(1.7306784E9, 0.0))</td><td>260.4528443937852</td></tr><tr><td>1732579200</td><td>Warehouse</td><td>424.24948821253076</td><td>4.0</td><td>Map(vectorType -> dense, length -> 2, values -> List(1.7325792E9, 4.0))</td><td>274.9599023593255</td></tr><tr><td>1730937600</td><td>Warehouse</td><td>220.34046974375906</td><td>4.0</td><td>Map(vectorType -> dense, length -> 2, values -> List(1.7309376E9, 4.0))</td><td>256.52145528290566</td></tr><tr><td>1731628800</td><td>Appliances</td><td>444.365431912701</td><td>0.0</td><td>Map(vectorType -> dense, length -> 2, values -> List(1.7316288E9, 0.0))</td><td>271.12773480645046</td></tr><tr><td>1732406400</td><td>Lighting</td><td>441.73335642654513</td><td>2.0</td><td>Map(vectorType -> dense, length -> 2, values -> List(1.7324064E9, 2.0))</td><td>276.44037462327833</td></tr><tr><td>1732492800</td><td>Appliances</td><td>400.3819153837512</td><td>0.0</td><td>Map(vectorType -> dense, length -> 2, values -> List(1.7324928E9, 0.0))</td><td>280.8321806361455</td></tr><tr><td>1730592000</td><td>Appliances</td><td>61.94118635773863</td><td>0.0</td><td>Map(vectorType -> dense, length -> 2, values -> List(1.730592E9, 0.0))</td><td>259.48239981081497</td></tr><tr><td>1731456000</td><td>Warehouse</td><td>429.2833640854143</td><td>4.0</td><td>Map(vectorType -> dense, length -> 2, values -> List(1.731456E9, 4.0))</td><td>262.3441227807198</td></tr><tr><td>1731542400</td><td>Warehouse</td><td>170.48339418906625</td><td>4.0</td><td>Map(vectorType -> dense, length -> 2, values -> List(1.7315424E9, 4.0))</td><td>263.31456736369</td></tr><tr><td>1732320000</td><td>HVAC</td><td>168.52507283799085</td><td>1.0</td><td>Map(vectorType -> dense, length -> 2, values -> List(1.73232E9, 1.0))</td><td>277.1806107552584</td></tr><tr><td>1731888000</td><td>HVAC</td><td>498.8919229227996</td><td>1.0</td><td>Map(vectorType -> dense, length -> 2, values -> List(1.731888E9, 1.0))</td><td>272.32838784041087</td></tr><tr><td>1730419200</td><td>Office</td><td>150.44483216697023</td><td>3.0</td><td>Map(vectorType -> dense, length -> 2, values -> List(1.7304192E9, 3.0))</td><td>252.40946850003456</td></tr><tr><td>1732406400</td><td>HVAC</td><td>184.3001561518848</td><td>1.0</td><td>Map(vectorType -> dense, length -> 2, values -> List(1.7324064E9, 1.0))</td><td>278.1510553382286</td></tr><tr><td>1731110400</td><td>Lighting</td><td>367.0573262967156</td><td>2.0</td><td>Map(vectorType -> dense, length -> 2, values -> List(1.7311104E9, 2.0))</td><td>261.8837058787358</td></tr><tr><td>1730678400</td><td>Lighting</td><td>295.22366627144754</td><td>2.0</td><td>Map(vectorType -> dense, length -> 2, values -> List(1.7306784E9, 2.0))</td><td>257.03148296388827</td></tr><tr><td>1731196800</td><td>Lighting</td><td>154.7558988624636</td><td>2.0</td><td>Map(vectorType -> dense, length -> 2, values -> List(1.7311968E9, 2.0))</td><td>262.854150461706</td></tr><tr><td>1732233600</td><td>Lighting</td><td>338.4328093609136</td><td>2.0</td><td>Map(vectorType -> dense, length -> 2, values -> List(1.7322336E9, 2.0))</td><td>274.4994854573415</td></tr><tr><td>1730505600</td><td>HVAC</td><td>451.48080546718046</td><td>1.0</td><td>Map(vectorType -> dense, length -> 2, values -> List(1.7305056E9, 1.0))</td><td>256.8012745128981</td></tr><tr><td>1731456000</td><td>Office</td><td>358.07641294544356</td><td>3.0</td><td>Map(vectorType -> dense, length -> 2, values -> List(1.731456E9, 3.0))</td><td>264.0548034956664</td></tr><tr><td>1732147200</td><td>HVAC</td><td>374.32481871208756</td><td>1.0</td><td>Map(vectorType -> dense, length -> 2, values -> List(1.7321472E9, 1.0))</td><td>275.23972158932156</td></tr><tr><td>1732492800</td><td>Office</td><td>288.65915248782983</td><td>3.0</td><td>Map(vectorType -> dense, length -> 2, values -> List(1.7324928E9, 3.0))</td><td>275.7001384913019</td></tr><tr><td>1732233600</td><td>Warehouse</td><td>479.21716738448606</td><td>4.0</td><td>Map(vectorType -> dense, length -> 2, values -> List(1.7322336E9, 4.0))</td><td>271.0781240274482</td></tr><tr><td>1731974400</td><td>HVAC</td><td>332.3507187663905</td><td>1.0</td><td>Map(vectorType -> dense, length -> 2, values -> List(1.7319744E9, 1.0))</td><td>273.2988324233811</td></tr><tr><td>1730764800</td><td>Warehouse</td><td>480.74588249305157</td><td>4.0</td><td>Map(vectorType -> dense, length -> 2, values -> List(1.7307648E9, 4.0))</td><td>254.5805661169652</td></tr><tr><td>1730764800</td><td>HVAC</td><td>364.16272774470207</td><td>1.0</td><td>Map(vectorType -> dense, length -> 2, values -> List(1.7307648E9, 1.0))</td><td>259.7126082618088</td></tr><tr><td>1731196800</td><td>HVAC</td><td>95.4506432343781</td><td>1.0</td><td>Map(vectorType -> dense, length -> 2, values -> List(1.7311968E9, 1.0))</td><td>264.5648311766563</td></tr><tr><td>1732838400</td><td>HVAC</td><td>297.41161707272477</td><td>1.0</td><td>Map(vectorType -> dense, length -> 2, values -> List(1.7328384E9, 1.0))</td><td>283.00327825307613</td></tr><tr><td>1730505600</td><td>Appliances</td><td>89.12247468323727</td><td>0.0</td><td>Map(vectorType -> dense, length -> 2, values -> List(1.7305056E9, 0.0))</td><td>258.51195522784474</td></tr><tr><td>1731974400</td><td>Lighting</td><td>99.34210865779662</td><td>2.0</td><td>Map(vectorType -> dense, length -> 2, values -> List(1.7319744E9, 2.0))</td><td>271.5881517084308</td></tr><tr><td>1731196800</td><td>Warehouse</td><td>214.1744805365379</td><td>4.0</td><td>Map(vectorType -> dense, length -> 2, values -> List(1.7311968E9, 4.0))</td><td>259.4327890318127</td></tr><tr><td>1732060800</td><td>Warehouse</td><td>437.35086600552415</td><td>4.0</td><td>Map(vectorType -> dense, length -> 2, values -> List(1.7320608E9, 4.0))</td><td>269.13723486150775</td></tr><tr><td>1731369600</td><td>Appliances</td><td>378.10705907765714</td><td>0.0</td><td>Map(vectorType -> dense, length -> 2, values -> List(1.7313696E9, 0.0))</td><td>268.2164010575434</td></tr><tr><td>1730937600</td><td>Office</td><td>487.9020937907168</td><td>3.0</td><td>Map(vectorType -> dense, length -> 2, values -> List(1.7309376E9, 3.0))</td><td>258.2321359978523</td></tr><tr><td>1732579200</td><td>HVAC</td><td>58.76453407362453</td><td>1.0</td><td>Map(vectorType -> dense, length -> 2, values -> List(1.7325792E9, 1.0))</td><td>280.0919445041691</td></tr><tr><td>1731801600</td><td>Lighting</td><td>302.6156603734179</td><td>2.0</td><td>Map(vectorType -> dense, length -> 2, values -> List(1.7318016E9, 2.0))</td><td>269.647262542494</td></tr><tr><td>1730678400</td><td>Office</td><td>414.243705505022</td><td>3.0</td><td>Map(vectorType -> dense, length -> 2, values -> List(1.7306784E9, 3.0))</td><td>255.32080224894162</td></tr><tr><td>1732147200</td><td>Office</td><td>291.6366486839578</td><td>3.0</td><td>Map(vectorType -> dense, length -> 2, values -> List(1.7321472E9, 3.0))</td><td>271.8183601594246</td></tr><tr><td>1731110400</td><td>Appliances</td><td>152.5542240431961</td><td>0.0</td><td>Map(vectorType -> dense, length -> 2, values -> List(1.7311104E9, 0.0))</td><td>265.3050673086327</td></tr><tr><td>1732233600</td><td>Office</td><td>254.1756678481429</td><td>3.0</td><td>Map(vectorType -> dense, length -> 2, values -> List(1.7322336E9, 3.0))</td><td>272.78880474239486</td></tr><tr><td>1731196800</td><td>Appliances</td><td>175.08812139954145</td><td>0.0</td><td>Map(vectorType -> dense, length -> 2, values -> List(1.7311968E9, 0.0))</td><td>266.27551189160295</td></tr><tr><td>1732579200</td><td>Appliances</td><td>468.0943773190777</td><td>0.0</td><td>Map(vectorType -> dense, length -> 2, values -> List(1.7325792E9, 0.0))</td><td>281.8026252191157</td></tr><tr><td>1732406400</td><td>Office</td><td>324.03659514717754</td><td>3.0</td><td>Map(vectorType -> dense, length -> 2, values -> List(1.7324064E9, 3.0))</td><td>274.7296939083317</td></tr><tr><td>1730851200</td><td>HVAC</td><td>91.73562952106656</td><td>1.0</td><td>Map(vectorType -> dense, length -> 2, values -> List(1.7308512E9, 1.0))</td><td>260.683052844779</td></tr><tr><td>1732579200</td><td>Lighting</td><td>195.8702256521029</td><td>2.0</td><td>Map(vectorType -> dense, length -> 2, values -> List(1.7325792E9, 2.0))</td><td>278.3812637892188</td></tr><tr><td>1732924800</td><td>Office</td><td>140.51797852536316</td><td>3.0</td><td>Map(vectorType -> dense, length -> 2, values -> List(1.7329248E9, 3.0))</td><td>280.55236140614943</td></tr><tr><td>1732147200</td><td>Lighting</td><td>55.16645987426884</td><td>2.0</td><td>Map(vectorType -> dense, length -> 2, values -> List(1.7321472E9, 2.0))</td><td>273.5290408743713</td></tr><tr><td>1731888000</td><td>Appliances</td><td>279.286832154409</td><td>0.0</td><td>Map(vectorType -> dense, length -> 2, values -> List(1.731888E9, 0.0))</td><td>274.0390685553575</td></tr><tr><td>1732579200</td><td>Office</td><td>445.4248450204329</td><td>3.0</td><td>Map(vectorType -> dense, length -> 2, values -> List(1.7325792E9, 3.0))</td><td>276.67058307427214</td></tr><tr><td>1732320000</td><td>Appliances</td><td>275.2637508726342</td><td>0.0</td><td>Map(vectorType -> dense, length -> 2, values -> List(1.73232E9, 0.0))</td><td>278.89129147020503</td></tr><tr><td>1731974400</td><td>Appliances</td><td>406.43571396333385</td><td>0.0</td><td>Map(vectorType -> dense, length -> 2, values -> List(1.7319744E9, 0.0))</td><td>275.00951313832775</td></tr><tr><td>1732060800</td><td>Lighting</td><td>221.72867892794153</td><td>2.0</td><td>Map(vectorType -> dense, length -> 2, values -> List(1.7320608E9, 2.0))</td><td>272.55859629140105</td></tr><tr><td>1732320000</td><td>Warehouse</td><td>460.6825277051692</td><td>4.0</td><td>Map(vectorType -> dense, length -> 2, values -> List(1.73232E9, 4.0))</td><td>272.0485686104148</td></tr></tbody></table></div>"
      ]
     },
     "metadata": {
      "application/vnd.databricks.v1+output": {
       "addedWidgets": {},
       "aggData": [],
       "aggError": "",
       "aggOverflow": false,
       "aggSchema": [],
       "aggSeriesLimitReached": false,
       "aggType": "",
       "arguments": {},
       "columnCustomDisplayInfos": {},
       "data": [
        [
         1730592000,
         "Office",
         139.47694280899182,
         3,
         {
          "length": 2,
          "values": [
           1730592000,
           3
          ],
          "vectorType": "dense"
         },
         254.3503576659714
        ],
        [
         1731715200,
         "Appliances",
         256.48333366432945,
         0,
         {
          "length": 2,
          "values": [
           1731715200,
           0
          ],
          "vectorType": "dense"
         },
         272.0981793894207
        ],
        [
         1732060800,
         "Office",
         486.9852699261282,
         3,
         {
          "length": 2,
          "values": [
           1732060800,
           3
          ],
          "vectorType": "dense"
         },
         270.8479155764544
        ],
        [
         1732924800,
         "Lighting",
         145.30919244893693,
         2,
         {
          "length": 2,
          "values": [
           1732924800,
           2
          ],
          "vectorType": "dense"
         },
         282.2630421210961
        ],
        [
         1732060800,
         "HVAC",
         498.2546211080435,
         1,
         {
          "length": 2,
          "values": [
           1732060800,
           1
          ],
          "vectorType": "dense"
         },
         274.26927700635133
        ],
        [
         1732752000,
         "Appliances",
         392.2709743657542,
         0,
         {
          "length": 2,
          "values": [
           1732752000,
           0
          ],
          "vectorType": "dense"
         },
         283.7435143850562
        ],
        [
         1730678400,
         "Warehouse",
         52.924441855127455,
         4,
         {
          "length": 2,
          "values": [
           1730678400,
           4
          ],
          "vectorType": "dense"
         },
         253.61012153399497
        ],
        [
         1731801600,
         "Appliances",
         313.06369560059323,
         0,
         {
          "length": 2,
          "values": [
           1731801600,
           0
          ],
          "vectorType": "dense"
         },
         273.0686239723909
        ],
        [
         1732924800,
         "Warehouse",
         190.27233108540273,
         4,
         {
          "length": 2,
          "values": [
           1732924800,
           4
          ],
          "vectorType": "dense"
         },
         278.8416806912028
        ],
        [
         1730505600,
         "Office",
         239.8648188583717,
         3,
         {
          "length": 2,
          "values": [
           1730505600,
           3
          ],
          "vectorType": "dense"
         },
         253.37991308300116
        ],
        [
         1731110400,
         "Warehouse",
         85.90638961563238,
         4,
         {
          "length": 2,
          "values": [
           1731110400,
           4
          ],
          "vectorType": "dense"
         },
         258.4623444488425
        ],
        [
         1730419200,
         "Lighting",
         337.7420593060477,
         2,
         {
          "length": 2,
          "values": [
           1730419200,
           2
          ],
          "vectorType": "dense"
         },
         254.1201492149812
        ],
        [
         1732492800,
         "Lighting",
         393.1298600338181,
         2,
         {
          "length": 2,
          "values": [
           1732492800,
           2
          ],
          "vectorType": "dense"
         },
         277.41081920624856
        ],
        [
         1730419200,
         "Appliances",
         173.76319326610366,
         0,
         {
          "length": 2,
          "values": [
           1730419200,
           0
          ],
          "vectorType": "dense"
         },
         257.54151064487814
        ],
        [
         1730764800,
         "Lighting",
         412.61866332476353,
         2,
         {
          "length": 2,
          "values": [
           1730764800,
           2
          ],
          "vectorType": "dense"
         },
         258.0019275468585
        ],
        [
         1731888000,
         "Office",
         90.90923547820725,
         3,
         {
          "length": 2,
          "values": [
           1731888000,
           3
          ],
          "vectorType": "dense"
         },
         268.90702641051394
        ],
        [
         1732665600,
         "Office",
         476.12725038409735,
         3,
         {
          "length": 2,
          "values": [
           1732665600,
           3
          ],
          "vectorType": "dense"
         },
         277.6410276572424
        ],
        [
         1731024000,
         "Office",
         437.76810513984975,
         3,
         {
          "length": 2,
          "values": [
           1731024000,
           3
          ],
          "vectorType": "dense"
         },
         259.2025805808189
        ],
        [
         1732233600,
         "HVAC",
         100.1984781181444,
         1,
         {
          "length": 2,
          "values": [
           1732233600,
           1
          ],
          "vectorType": "dense"
         },
         276.2101661722918
        ],
        [
         1731024000,
         "Appliances",
         328.3338885639107,
         0,
         {
          "length": 2,
          "values": [
           1731024000,
           0
          ],
          "vectorType": "dense"
         },
         264.3346227256625
        ],
        [
         1731628800,
         "Lighting",
         144.9422796138469,
         2,
         {
          "length": 2,
          "values": [
           1731628800,
           2
          ],
          "vectorType": "dense"
         },
         267.70637337655353
        ],
        [
         1731283200,
         "HVAC",
         144.27816384716948,
         1,
         {
          "length": 2,
          "values": [
           1731283200,
           1
          ],
          "vectorType": "dense"
         },
         265.53527575962653
        ],
        [
         1731283200,
         "Office",
         471.4945644706223,
         3,
         {
          "length": 2,
          "values": [
           1731283200,
           3
          ],
          "vectorType": "dense"
         },
         262.1139143297296
        ],
        [
         1731196800,
         "Office",
         336.0579999189801,
         3,
         {
          "length": 2,
          "values": [
           1731196800,
           3
          ],
          "vectorType": "dense"
         },
         261.14346974675937
        ],
        [
         1732060800,
         "Appliances",
         288.1014552946117,
         0,
         {
          "length": 2,
          "values": [
           1732060800,
           0
          ],
          "vectorType": "dense"
         },
         275.979957721298
        ],
        [
         1732147200,
         "Appliances",
         356.7696660619587,
         0,
         {
          "length": 2,
          "values": [
           1732147200,
           0
          ],
          "vectorType": "dense"
         },
         276.9504023042682
        ],
        [
         1732752000,
         "Office",
         394.6254931881445,
         3,
         {
          "length": 2,
          "values": [
           1732752000,
           3
          ],
          "vectorType": "dense"
         },
         278.6114722402126
        ],
        [
         1731110400,
         "HVAC",
         70.620972645048,
         1,
         {
          "length": 2,
          "values": [
           1731110400,
           1
          ],
          "vectorType": "dense"
         },
         263.59438659368607
        ],
        [
         1732492800,
         "Warehouse",
         50.25735325757458,
         4,
         {
          "length": 2,
          "values": [
           1732492800,
           4
          ],
          "vectorType": "dense"
         },
         273.98945777635527
        ],
        [
         1731542400,
         "Lighting",
         399.19996019581015,
         2,
         {
          "length": 2,
          "values": [
           1731542400,
           2
          ],
          "vectorType": "dense"
         },
         266.7359287935833
        ],
        [
         1732838400,
         "Warehouse",
         240.4120730903991,
         4,
         {
          "length": 2,
          "values": [
           1732838400,
           4
          ],
          "vectorType": "dense"
         },
         277.87123610823255
        ],
        [
         1730937600,
         "HVAC",
         378.37930401221803,
         1,
         {
          "length": 2,
          "values": [
           1730937600,
           1
          ],
          "vectorType": "dense"
         },
         261.65349742774924
        ],
        [
         1732492800,
         "HVAC",
         292.72056355383154,
         1,
         {
          "length": 2,
          "values": [
           1732492800,
           1
          ],
          "vectorType": "dense"
         },
         279.12149992119885
        ],
        [
         1731283200,
         "Warehouse",
         341.6159233609671,
         4,
         {
          "length": 2,
          "values": [
           1731283200,
           4
          ],
          "vectorType": "dense"
         },
         260.40323361478295
        ],
        [
         1732665600,
         "Appliances",
         445.1043196418182,
         0,
         {
          "length": 2,
          "values": [
           1732665600,
           0
          ],
          "vectorType": "dense"
         },
         282.77306980208596
        ],
        [
         1730851200,
         "Office",
         431.3724648563569,
         3,
         {
          "length": 2,
          "values": [
           1730851200,
           3
          ],
          "vectorType": "dense"
         },
         257.2616914148821
        ],
        [
         1731283200,
         "Lighting",
         216.5814352025972,
         2,
         {
          "length": 2,
          "values": [
           1731283200,
           2
          ],
          "vectorType": "dense"
         },
         263.82459504467624
        ],
        [
         1730505600,
         "Lighting",
         354.51476934031007,
         2,
         {
          "length": 2,
          "values": [
           1730505600,
           2
          ],
          "vectorType": "dense"
         },
         255.0905937979478
        ],
        [
         1730937600,
         "Appliances",
         291.30264115461534,
         0,
         {
          "length": 2,
          "values": [
           1730937600,
           0
          ],
          "vectorType": "dense"
         },
         263.3641781426959
        ],
        [
         1732752000,
         "HVAC",
         81.14563331077262,
         1,
         {
          "length": 2,
          "values": [
           1732752000,
           1
          ],
          "vectorType": "dense"
         },
         282.03283367010954
        ],
        [
         1730592000,
         "Lighting",
         148.38708866162153,
         2,
         {
          "length": 2,
          "values": [
           1730592000,
           2
          ],
          "vectorType": "dense"
         },
         256.06103838091803
        ],
        [
         1731888000,
         "Warehouse",
         71.20236894113056,
         4,
         {
          "length": 2,
          "values": [
           1731888000,
           4
          ],
          "vectorType": "dense"
         },
         267.1963456955673
        ],
        [
         1731628800,
         "Office",
         191.60504635931505,
         3,
         {
          "length": 2,
          "values": [
           1731628800,
           3
          ],
          "vectorType": "dense"
         },
         265.9956926616069
        ],
        [
         1732665600,
         "HVAC",
         76.0663249223844,
         1,
         {
          "length": 2,
          "values": [
           1732665600,
           1
          ],
          "vectorType": "dense"
         },
         281.0623890871393
        ],
        [
         1730764800,
         "Appliances",
         203.11273243309634,
         0,
         {
          "length": 2,
          "values": [
           1730764800,
           0
          ],
          "vectorType": "dense"
         },
         261.42328897675543
        ],
        [
         1731369600,
         "HVAC",
         127.01239168914364,
         1,
         {
          "length": 2,
          "values": [
           1731369600,
           1
          ],
          "vectorType": "dense"
         },
         266.50572034259676
        ],
        [
         1730505600,
         "Warehouse",
         63.40874874713165,
         4,
         {
          "length": 2,
          "values": [
           1730505600,
           4
          ],
          "vectorType": "dense"
         },
         251.6692323680545
        ],
        [
         1730764800,
         "Office",
         119.9657749153017,
         3,
         {
          "length": 2,
          "values": [
           1730764800,
           3
          ],
          "vectorType": "dense"
         },
         256.29124683191185
        ],
        [
         1732320000,
         "Lighting",
         444.1338231701873,
         2,
         {
          "length": 2,
          "values": [
           1732320000,
           2
          ],
          "vectorType": "dense"
         },
         275.4699300403081
        ],
        [
         1730851200,
         "Lighting",
         201.46754530068205,
         2,
         {
          "length": 2,
          "values": [
           1730851200,
           2
          ],
          "vectorType": "dense"
         },
         258.9723721298287
        ],
        [
         1732147200,
         "Warehouse",
         170.07133547864424,
         4,
         {
          "length": 2,
          "values": [
           1732147200,
           4
          ],
          "vectorType": "dense"
         },
         270.107679444478
        ],
        [
         1731715200,
         "Office",
         169.1960749241236,
         3,
         {
          "length": 2,
          "values": [
           1731715200,
           3
          ],
          "vectorType": "dense"
         },
         266.9661372445771
        ],
        [
         1730419200,
         "Warehouse",
         381.4120463738056,
         4,
         {
          "length": 2,
          "values": [
           1730419200,
           4
          ],
          "vectorType": "dense"
         },
         250.69878778508792
        ],
        [
         1730678400,
         "HVAC",
         149.19827991831352,
         1,
         {
          "length": 2,
          "values": [
           1730678400,
           1
          ],
          "vectorType": "dense"
         },
         258.74216367883855
        ],
        [
         1730851200,
         "Warehouse",
         321.676714115101,
         4,
         {
          "length": 2,
          "values": [
           1730851200,
           4
          ],
          "vectorType": "dense"
         },
         255.55101069993543
        ],
        [
         1732665600,
         "Warehouse",
         88.54405343054545,
         4,
         {
          "length": 2,
          "values": [
           1732665600,
           4
          ],
          "vectorType": "dense"
         },
         275.9303469422957
        ],
        [
         1731024000,
         "Warehouse",
         309.80846536554293,
         4,
         {
          "length": 2,
          "values": [
           1731024000,
           4
          ],
          "vectorType": "dense"
         },
         257.49189986587226
        ],
        [
         1731369600,
         "Lighting",
         324.1089525501447,
         2,
         {
          "length": 2,
          "values": [
           1731369600,
           2
          ],
          "vectorType": "dense"
         },
         264.7950396276465
        ],
        [
         1731801600,
         "HVAC",
         168.23372383532086,
         1,
         {
          "length": 2,
          "values": [
           1731801600,
           1
          ],
          "vectorType": "dense"
         },
         271.3579432574443
        ],
        [
         1732752000,
         "Lighting",
         268.69570849247623,
         2,
         {
          "length": 2,
          "values": [
           1732752000,
           2
          ],
          "vectorType": "dense"
         },
         280.32215295515925
        ],
        [
         1731888000,
         "Lighting",
         148.6943416207775,
         2,
         {
          "length": 2,
          "values": [
           1731888000,
           2
          ],
          "vectorType": "dense"
         },
         270.6177071254606
        ],
        [
         1732406400,
         "Appliances",
         337.52727268970233,
         0,
         {
          "length": 2,
          "values": [
           1732406400,
           0
          ],
          "vectorType": "dense"
         },
         279.86173605317526
        ],
        [
         1731974400,
         "Warehouse",
         78.5874677683807,
         4,
         {
          "length": 2,
          "values": [
           1731974400,
           4
          ],
          "vectorType": "dense"
         },
         268.1667902785375
        ],
        [
         1731024000,
         "Lighting",
         298.41828407295213,
         2,
         {
          "length": 2,
          "values": [
           1731024000,
           2
          ],
          "vectorType": "dense"
         },
         260.91326129576555
        ],
        [
         1731715200,
         "HVAC",
         461.5464153832446,
         1,
         {
          "length": 2,
          "values": [
           1731715200,
           1
          ],
          "vectorType": "dense"
         },
         270.38749867447405
        ],
        [
         1732924800,
         "Appliances",
         378.4689810904893,
         0,
         {
          "length": 2,
          "values": [
           1732924800,
           0
          ],
          "vectorType": "dense"
         },
         285.684403550993
        ],
        [
         1732665600,
         "Lighting",
         188.38135643119764,
         2,
         {
          "length": 2,
          "values": [
           1732665600,
           2
          ],
          "vectorType": "dense"
         },
         279.351708372189
        ],
        [
         1731283200,
         "Appliances",
         170.140019922101,
         0,
         {
          "length": 2,
          "values": [
           1731283200,
           0
          ],
          "vectorType": "dense"
         },
         267.2459564745732
        ],
        [
         1732838400,
         "Appliances",
         169.2754830230266,
         0,
         {
          "length": 2,
          "values": [
           1732838400,
           0
          ],
          "vectorType": "dense"
         },
         284.7139589680228
        ],
        [
         1731801600,
         "Warehouse",
         229.73022731317877,
         4,
         {
          "length": 2,
          "values": [
           1731801600,
           4
          ],
          "vectorType": "dense"
         },
         266.2259011126007
        ],
        [
         1731369600,
         "Warehouse",
         220.7549487909415,
         4,
         {
          "length": 2,
          "values": [
           1731369600,
           4
          ],
          "vectorType": "dense"
         },
         261.3736781977532
        ],
        [
         1732838400,
         "Office",
         442.5948684883658,
         3,
         {
          "length": 2,
          "values": [
           1732838400,
           3
          ],
          "vectorType": "dense"
         },
         279.5819168231792
        ],
        [
         1730851200,
         "Appliances",
         93.5223695750588,
         0,
         {
          "length": 2,
          "values": [
           1730851200,
           0
          ],
          "vectorType": "dense"
         },
         262.39373355972566
        ],
        [
         1732406400,
         "Warehouse",
         118.77767084733567,
         4,
         {
          "length": 2,
          "values": [
           1732406400,
           4
          ],
          "vectorType": "dense"
         },
         273.01901319338504
        ],
        [
         1730419200,
         "HVAC",
         61.25483985020012,
         1,
         {
          "length": 2,
          "values": [
           1730419200,
           1
          ],
          "vectorType": "dense"
         },
         255.8308299299315
        ],
        [
         1731369600,
         "Office",
         123.53112219286777,
         3,
         {
          "length": 2,
          "values": [
           1731369600,
           3
          ],
          "vectorType": "dense"
         },
         263.0843589126998
        ],
        [
         1731542400,
         "HVAC",
         153.07163238384697,
         1,
         {
          "length": 2,
          "values": [
           1731542400,
           1
          ],
          "vectorType": "dense"
         },
         268.4466095085336
        ],
        [
         1731974400,
         "Office",
         239.97198505985781,
         3,
         {
          "length": 2,
          "values": [
           1731974400,
           3
          ],
          "vectorType": "dense"
         },
         269.87747099348417
        ],
        [
         1732752000,
         "Warehouse",
         107.77615902489326,
         4,
         {
          "length": 2,
          "values": [
           1732752000,
           4
          ],
          "vectorType": "dense"
         },
         276.90079152526596
        ],
        [
         1732924800,
         "HVAC",
         292.6832399507563,
         1,
         {
          "length": 2,
          "values": [
           1732924800,
           1
          ],
          "vectorType": "dense"
         },
         283.97372283604636
        ],
        [
         1731628800,
         "HVAC",
         474.3093714507745,
         1,
         {
          "length": 2,
          "values": [
           1731628800,
           1
          ],
          "vectorType": "dense"
         },
         269.4170540915038
        ],
        [
         1731024000,
         "HVAC",
         423.23209891384766,
         1,
         {
          "length": 2,
          "values": [
           1731024000,
           1
          ],
          "vectorType": "dense"
         },
         262.62394201071584
        ],
        [
         1731715200,
         "Lighting",
         228.03435547729893,
         2,
         {
          "length": 2,
          "values": [
           1731715200,
           2
          ],
          "vectorType": "dense"
         },
         268.67681795952376
        ],
        [
         1731801600,
         "Office",
         454.02029762111465,
         3,
         {
          "length": 2,
          "values": [
           1731801600,
           3
          ],
          "vectorType": "dense"
         },
         267.93658182754734
        ],
        [
         1731715200,
         "Warehouse",
         160.98237846229256,
         4,
         {
          "length": 2,
          "values": [
           1731715200,
           4
          ],
          "vectorType": "dense"
         },
         265.25545652963046
        ],
        [
         1730592000,
         "HVAC",
         277.4098796465131,
         1,
         {
          "length": 2,
          "values": [
           1730592000,
           1
          ],
          "vectorType": "dense"
         },
         257.7717190958683
        ],
        [
         1730592000,
         "Warehouse",
         342.44799700078545,
         4,
         {
          "length": 2,
          "values": [
           1730592000,
           4
          ],
          "vectorType": "dense"
         },
         252.63967695102474
        ],
        [
         1731542400,
         "Appliances",
         64.44510975681699,
         0,
         {
          "length": 2,
          "values": [
           1731542400,
           0
          ],
          "vectorType": "dense"
         },
         270.15729022348023
        ],
        [
         1731456000,
         "Lighting",
         495.28550778646786,
         2,
         {
          "length": 2,
          "values": [
           1731456000,
           2
          ],
          "vectorType": "dense"
         },
         265.76548421061307
        ],
        [
         1731628800,
         "Warehouse",
         344.947399382696,
         4,
         {
          "length": 2,
          "values": [
           1731628800,
           4
          ],
          "vectorType": "dense"
         },
         264.28501194666023
        ],
        [
         1731456000,
         "Appliances",
         300.62738469859084,
         0,
         {
          "length": 2,
          "values": [
           1731456000,
           0
          ],
          "vectorType": "dense"
         },
         269.18684564051
        ],
        [
         1730937600,
         "Lighting",
         413.2077229734711,
         2,
         {
          "length": 2,
          "values": [
           1730937600,
           2
          ],
          "vectorType": "dense"
         },
         259.94281671279896
        ],
        [
         1732233600,
         "Appliances",
         245.64436280109723,
         0,
         {
          "length": 2,
          "values": [
           1732233600,
           0
          ],
          "vectorType": "dense"
         },
         277.92084688723844
        ],
        [
         1731456000,
         "HVAC",
         337.9998919343418,
         1,
         {
          "length": 2,
          "values": [
           1731456000,
           1
          ],
          "vectorType": "dense"
         },
         267.47616492556335
        ],
        [
         1732320000,
         "Office",
         130.3933462385591,
         3,
         {
          "length": 2,
          "values": [
           1732320000,
           3
          ],
          "vectorType": "dense"
         },
         273.75924932536145
        ],
        [
         1732838400,
         "Lighting",
         263.8770701444291,
         2,
         {
          "length": 2,
          "values": [
           1732838400,
           2
          ],
          "vectorType": "dense"
         },
         281.29259753812585
        ],
        [
         1731542400,
         "Office",
         191.95387162658687,
         3,
         {
          "length": 2,
          "values": [
           1731542400,
           3
          ],
          "vectorType": "dense"
         },
         265.02524807863665
        ],
        [
         1731110400,
         "Office",
         180.22458362094824,
         3,
         {
          "length": 2,
          "values": [
           1731110400,
           3
          ],
          "vectorType": "dense"
         },
         260.17302516378913
        ],
        [
         1730678400,
         "Appliances",
         315.1695577441589,
         0,
         {
          "length": 2,
          "values": [
           1730678400,
           0
          ],
          "vectorType": "dense"
         },
         260.4528443937852
        ],
        [
         1732579200,
         "Warehouse",
         424.24948821253076,
         4,
         {
          "length": 2,
          "values": [
           1732579200,
           4
          ],
          "vectorType": "dense"
         },
         274.9599023593255
        ],
        [
         1730937600,
         "Warehouse",
         220.34046974375906,
         4,
         {
          "length": 2,
          "values": [
           1730937600,
           4
          ],
          "vectorType": "dense"
         },
         256.52145528290566
        ],
        [
         1731628800,
         "Appliances",
         444.365431912701,
         0,
         {
          "length": 2,
          "values": [
           1731628800,
           0
          ],
          "vectorType": "dense"
         },
         271.12773480645046
        ],
        [
         1732406400,
         "Lighting",
         441.73335642654513,
         2,
         {
          "length": 2,
          "values": [
           1732406400,
           2
          ],
          "vectorType": "dense"
         },
         276.44037462327833
        ],
        [
         1732492800,
         "Appliances",
         400.3819153837512,
         0,
         {
          "length": 2,
          "values": [
           1732492800,
           0
          ],
          "vectorType": "dense"
         },
         280.8321806361455
        ],
        [
         1730592000,
         "Appliances",
         61.94118635773863,
         0,
         {
          "length": 2,
          "values": [
           1730592000,
           0
          ],
          "vectorType": "dense"
         },
         259.48239981081497
        ],
        [
         1731456000,
         "Warehouse",
         429.2833640854143,
         4,
         {
          "length": 2,
          "values": [
           1731456000,
           4
          ],
          "vectorType": "dense"
         },
         262.3441227807198
        ],
        [
         1731542400,
         "Warehouse",
         170.48339418906625,
         4,
         {
          "length": 2,
          "values": [
           1731542400,
           4
          ],
          "vectorType": "dense"
         },
         263.31456736369
        ],
        [
         1732320000,
         "HVAC",
         168.52507283799085,
         1,
         {
          "length": 2,
          "values": [
           1732320000,
           1
          ],
          "vectorType": "dense"
         },
         277.1806107552584
        ],
        [
         1731888000,
         "HVAC",
         498.8919229227996,
         1,
         {
          "length": 2,
          "values": [
           1731888000,
           1
          ],
          "vectorType": "dense"
         },
         272.32838784041087
        ],
        [
         1730419200,
         "Office",
         150.44483216697023,
         3,
         {
          "length": 2,
          "values": [
           1730419200,
           3
          ],
          "vectorType": "dense"
         },
         252.40946850003456
        ],
        [
         1732406400,
         "HVAC",
         184.3001561518848,
         1,
         {
          "length": 2,
          "values": [
           1732406400,
           1
          ],
          "vectorType": "dense"
         },
         278.1510553382286
        ],
        [
         1731110400,
         "Lighting",
         367.0573262967156,
         2,
         {
          "length": 2,
          "values": [
           1731110400,
           2
          ],
          "vectorType": "dense"
         },
         261.8837058787358
        ],
        [
         1730678400,
         "Lighting",
         295.22366627144754,
         2,
         {
          "length": 2,
          "values": [
           1730678400,
           2
          ],
          "vectorType": "dense"
         },
         257.03148296388827
        ],
        [
         1731196800,
         "Lighting",
         154.7558988624636,
         2,
         {
          "length": 2,
          "values": [
           1731196800,
           2
          ],
          "vectorType": "dense"
         },
         262.854150461706
        ],
        [
         1732233600,
         "Lighting",
         338.4328093609136,
         2,
         {
          "length": 2,
          "values": [
           1732233600,
           2
          ],
          "vectorType": "dense"
         },
         274.4994854573415
        ],
        [
         1730505600,
         "HVAC",
         451.48080546718046,
         1,
         {
          "length": 2,
          "values": [
           1730505600,
           1
          ],
          "vectorType": "dense"
         },
         256.8012745128981
        ],
        [
         1731456000,
         "Office",
         358.07641294544356,
         3,
         {
          "length": 2,
          "values": [
           1731456000,
           3
          ],
          "vectorType": "dense"
         },
         264.0548034956664
        ],
        [
         1732147200,
         "HVAC",
         374.32481871208756,
         1,
         {
          "length": 2,
          "values": [
           1732147200,
           1
          ],
          "vectorType": "dense"
         },
         275.23972158932156
        ],
        [
         1732492800,
         "Office",
         288.65915248782983,
         3,
         {
          "length": 2,
          "values": [
           1732492800,
           3
          ],
          "vectorType": "dense"
         },
         275.7001384913019
        ],
        [
         1732233600,
         "Warehouse",
         479.21716738448606,
         4,
         {
          "length": 2,
          "values": [
           1732233600,
           4
          ],
          "vectorType": "dense"
         },
         271.0781240274482
        ],
        [
         1731974400,
         "HVAC",
         332.3507187663905,
         1,
         {
          "length": 2,
          "values": [
           1731974400,
           1
          ],
          "vectorType": "dense"
         },
         273.2988324233811
        ],
        [
         1730764800,
         "Warehouse",
         480.74588249305157,
         4,
         {
          "length": 2,
          "values": [
           1730764800,
           4
          ],
          "vectorType": "dense"
         },
         254.5805661169652
        ],
        [
         1730764800,
         "HVAC",
         364.16272774470207,
         1,
         {
          "length": 2,
          "values": [
           1730764800,
           1
          ],
          "vectorType": "dense"
         },
         259.7126082618088
        ],
        [
         1731196800,
         "HVAC",
         95.4506432343781,
         1,
         {
          "length": 2,
          "values": [
           1731196800,
           1
          ],
          "vectorType": "dense"
         },
         264.5648311766563
        ],
        [
         1732838400,
         "HVAC",
         297.41161707272477,
         1,
         {
          "length": 2,
          "values": [
           1732838400,
           1
          ],
          "vectorType": "dense"
         },
         283.00327825307613
        ],
        [
         1730505600,
         "Appliances",
         89.12247468323727,
         0,
         {
          "length": 2,
          "values": [
           1730505600,
           0
          ],
          "vectorType": "dense"
         },
         258.51195522784474
        ],
        [
         1731974400,
         "Lighting",
         99.34210865779662,
         2,
         {
          "length": 2,
          "values": [
           1731974400,
           2
          ],
          "vectorType": "dense"
         },
         271.5881517084308
        ],
        [
         1731196800,
         "Warehouse",
         214.1744805365379,
         4,
         {
          "length": 2,
          "values": [
           1731196800,
           4
          ],
          "vectorType": "dense"
         },
         259.4327890318127
        ],
        [
         1732060800,
         "Warehouse",
         437.35086600552415,
         4,
         {
          "length": 2,
          "values": [
           1732060800,
           4
          ],
          "vectorType": "dense"
         },
         269.13723486150775
        ],
        [
         1731369600,
         "Appliances",
         378.10705907765714,
         0,
         {
          "length": 2,
          "values": [
           1731369600,
           0
          ],
          "vectorType": "dense"
         },
         268.2164010575434
        ],
        [
         1730937600,
         "Office",
         487.9020937907168,
         3,
         {
          "length": 2,
          "values": [
           1730937600,
           3
          ],
          "vectorType": "dense"
         },
         258.2321359978523
        ],
        [
         1732579200,
         "HVAC",
         58.76453407362453,
         1,
         {
          "length": 2,
          "values": [
           1732579200,
           1
          ],
          "vectorType": "dense"
         },
         280.0919445041691
        ],
        [
         1731801600,
         "Lighting",
         302.6156603734179,
         2,
         {
          "length": 2,
          "values": [
           1731801600,
           2
          ],
          "vectorType": "dense"
         },
         269.647262542494
        ],
        [
         1730678400,
         "Office",
         414.243705505022,
         3,
         {
          "length": 2,
          "values": [
           1730678400,
           3
          ],
          "vectorType": "dense"
         },
         255.32080224894162
        ],
        [
         1732147200,
         "Office",
         291.6366486839578,
         3,
         {
          "length": 2,
          "values": [
           1732147200,
           3
          ],
          "vectorType": "dense"
         },
         271.8183601594246
        ],
        [
         1731110400,
         "Appliances",
         152.5542240431961,
         0,
         {
          "length": 2,
          "values": [
           1731110400,
           0
          ],
          "vectorType": "dense"
         },
         265.3050673086327
        ],
        [
         1732233600,
         "Office",
         254.1756678481429,
         3,
         {
          "length": 2,
          "values": [
           1732233600,
           3
          ],
          "vectorType": "dense"
         },
         272.78880474239486
        ],
        [
         1731196800,
         "Appliances",
         175.08812139954145,
         0,
         {
          "length": 2,
          "values": [
           1731196800,
           0
          ],
          "vectorType": "dense"
         },
         266.27551189160295
        ],
        [
         1732579200,
         "Appliances",
         468.0943773190777,
         0,
         {
          "length": 2,
          "values": [
           1732579200,
           0
          ],
          "vectorType": "dense"
         },
         281.8026252191157
        ],
        [
         1732406400,
         "Office",
         324.03659514717754,
         3,
         {
          "length": 2,
          "values": [
           1732406400,
           3
          ],
          "vectorType": "dense"
         },
         274.7296939083317
        ],
        [
         1730851200,
         "HVAC",
         91.73562952106656,
         1,
         {
          "length": 2,
          "values": [
           1730851200,
           1
          ],
          "vectorType": "dense"
         },
         260.683052844779
        ],
        [
         1732579200,
         "Lighting",
         195.8702256521029,
         2,
         {
          "length": 2,
          "values": [
           1732579200,
           2
          ],
          "vectorType": "dense"
         },
         278.3812637892188
        ],
        [
         1732924800,
         "Office",
         140.51797852536316,
         3,
         {
          "length": 2,
          "values": [
           1732924800,
           3
          ],
          "vectorType": "dense"
         },
         280.55236140614943
        ],
        [
         1732147200,
         "Lighting",
         55.16645987426884,
         2,
         {
          "length": 2,
          "values": [
           1732147200,
           2
          ],
          "vectorType": "dense"
         },
         273.5290408743713
        ],
        [
         1731888000,
         "Appliances",
         279.286832154409,
         0,
         {
          "length": 2,
          "values": [
           1731888000,
           0
          ],
          "vectorType": "dense"
         },
         274.0390685553575
        ],
        [
         1732579200,
         "Office",
         445.4248450204329,
         3,
         {
          "length": 2,
          "values": [
           1732579200,
           3
          ],
          "vectorType": "dense"
         },
         276.67058307427214
        ],
        [
         1732320000,
         "Appliances",
         275.2637508726342,
         0,
         {
          "length": 2,
          "values": [
           1732320000,
           0
          ],
          "vectorType": "dense"
         },
         278.89129147020503
        ],
        [
         1731974400,
         "Appliances",
         406.43571396333385,
         0,
         {
          "length": 2,
          "values": [
           1731974400,
           0
          ],
          "vectorType": "dense"
         },
         275.00951313832775
        ],
        [
         1732060800,
         "Lighting",
         221.72867892794153,
         2,
         {
          "length": 2,
          "values": [
           1732060800,
           2
          ],
          "vectorType": "dense"
         },
         272.55859629140105
        ],
        [
         1732320000,
         "Warehouse",
         460.6825277051692,
         4,
         {
          "length": 2,
          "values": [
           1732320000,
           4
          ],
          "vectorType": "dense"
         },
         272.0485686104148
        ]
       ],
       "datasetInfos": [],
       "dbfsResultPath": null,
       "isJsonSchema": true,
       "metadata": {},
       "overflow": false,
       "plotOptions": {
        "customPlotOptions": {},
        "displayType": "table",
        "pivotAggregation": null,
        "pivotColumns": null,
        "xColumns": null,
        "yColumns": null
       },
       "removedWidgets": [],
       "schema": [
        {
         "metadata": "{}",
         "name": "Date",
         "type": "\"long\""
        },
        {
         "metadata": "{}",
         "name": "Department",
         "type": "\"string\""
        },
        {
         "metadata": "{}",
         "name": "energy_consumption",
         "type": "\"double\""
        },
        {
         "metadata": "{\"ml_attr\":{\"vals\":[\"Appliances\",\"HVAC\",\"Lighting\",\"Office\",\"Warehouse\"],\"type\":\"nominal\",\"name\":\"DepartmentIndex\"}}",
         "name": "DepartmentIndex",
         "type": "\"double\""
        },
        {
         "metadata": "{\"ml_attr\":{\"attrs\":{\"numeric\":[{\"idx\":0,\"name\":\"Date\"}],\"nominal\":[{\"vals\":[\"Appliances\",\"HVAC\",\"Lighting\",\"Office\",\"Warehouse\"],\"idx\":1,\"name\":\"DepartmentIndex\"}]},\"num_attrs\":2}}",
         "name": "feature",
         "type": "{\"type\":\"udt\",\"class\":\"org.apache.spark.ml.linalg.VectorUDT\",\"pyClass\":\"pyspark.ml.linalg.VectorUDT\",\"sqlType\":{\"type\":\"struct\",\"fields\":[{\"name\":\"type\",\"type\":\"byte\",\"nullable\":false,\"metadata\":{}},{\"name\":\"size\",\"type\":\"integer\",\"nullable\":true,\"metadata\":{}},{\"name\":\"indices\",\"type\":{\"type\":\"array\",\"elementType\":\"integer\",\"containsNull\":false},\"nullable\":true,\"metadata\":{}},{\"name\":\"values\",\"type\":{\"type\":\"array\",\"elementType\":\"double\",\"containsNull\":false},\"nullable\":true,\"metadata\":{}}]}}"
        },
        {
         "metadata": "{\"ml_attr\":{}}",
         "name": "prediction",
         "type": "\"double\""
        }
       ],
       "type": "table"
      }
     },
     "output_type": "display_data"
    }
   ],
   "source": [
    "%python\n",
    "from pyspark.ml.regression import LinearRegression\n",
    "from pyspark.ml.feature import VectorAssembler, StringIndexer\n",
    "from pyspark.sql.functions import col\n",
    "\n",
    "# Rename 'EnergyConsumption(kWh)' to 'energy_consumption' \n",
    "df = df.withColumnRenamed(\"EnergyConsumption(kWh)\", \"energy_consumption\")\n",
    "\n",
    "# Converting 'Date' to a numeric type \n",
    "df = df.withColumn(\"Date\", col(\"Date\").cast(\"timestamp\").cast(\"long\"))\n",
    "\n",
    "# Converting 'Department' to a numeric type using StringIndexer\n",
    "indexer = StringIndexer(inputCol=\"Department\", outputCol=\"DepartmentIndex\")\n",
    "df = indexer.fit(df).transform(df)\n",
    "\n",
    "# Creating a feature vector\n",
    "assembler = VectorAssembler(inputCols=[\"Date\", \"DepartmentIndex\"], outputCol=\"feature\")\n",
    "df = assembler.transform(df)\n",
    "\n",
    "# Initializing and fitting the linear regression model\n",
    "lr = LinearRegression(featuresCol=\"feature\", labelCol=\"energy_consumption\")\n",
    "lr_model = lr.fit(df)\n",
    "lr_predictions = lr_model.transform(df)\n",
    "\n",
    "display(lr_predictions)"
   ]
  },
  {
   "cell_type": "code",
   "execution_count": null,
   "metadata": {
    "application/vnd.databricks.v1+cell": {
     "cellMetadata": {
      "byteLimit": 2048000,
      "rowLimit": 10000
     },
     "inputWidgets": {},
     "nuid": "62e49ac4-91b8-4a30-b924-6364079725d0",
     "showTitle": false,
     "tableResultSettingsMap": {},
     "title": ""
    }
   },
   "outputs": [
    {
     "name": "stdout",
     "output_type": "stream",
     "text": [
      "Root Mean Squared Error (RMSE): 131.95754108158084\n",
      "R2: 0.004368786471632968\n"
     ]
    }
   ],
   "source": [
    "# Model evaluation using regression metrics\n",
    "from pyspark.ml.evaluation import RegressionEvaluator\n",
    "\n",
    "evaluator = RegressionEvaluator(labelCol=\"energy_consumption\", predictionCol=\"prediction\", metricName=\"rmse\")\n",
    "rmse = evaluator.evaluate(lr_predictions)\n",
    "print(\"Root Mean Squared Error (RMSE):\", rmse)\n",
    "\n",
    "# Evaluation using R2\n",
    "evaluator_r2 = RegressionEvaluator(labelCol=\"energy_consumption\", predictionCol=\"prediction\", metricName=\"r2\")\n",
    "r2 = evaluator_r2.evaluate(lr_predictions)\n",
    "print(\"R2:\", r2)\n"
   ]
  },
  {
   "cell_type": "code",
   "execution_count": null,
   "metadata": {
    "application/vnd.databricks.v1+cell": {
     "cellMetadata": {
      "byteLimit": 2048000,
      "rowLimit": 10000
     },
     "inputWidgets": {},
     "nuid": "6a656411-7d51-4215-9433-724ef2445d4c",
     "showTitle": false,
     "tableResultSettingsMap": {},
     "title": ""
    }
   },
   "outputs": [
    {
     "data": {
      "image/png": "[encoded data removed]",
      "text/plain": [
       "<Figure size 640x480 with 1 Axes>"
      ]
     },
     "metadata": {},
     "output_type": "display_data"
    }
   ],
   "source": [
    "import matplotlib.pyplot as plt\n",
    "\n",
    "# Converting to Pandas DataFrame for easy plotting\n",
    "pandas_df = lr_predictions.select(\"energy_consumption\", \"prediction\").toPandas()\n",
    "\n",
    "# Plotting the actual vs predicted energy consumption\n",
    "plt.scatter(pandas_df[\"energy_consumption\"], pandas_df[\"prediction\"])\n",
    "plt.plot([min(pandas_df[\"energy_consumption\"]), max(pandas_df[\"energy_consumption\"])], \n",
    "         [min(pandas_df[\"energy_consumption\"]), max(pandas_df[\"energy_consumption\"])], \n",
    "         color='red', linestyle='--')\n",
    "plt.xlabel(\"Actual Energy Consumption\")\n",
    "plt.ylabel(\"Predicted Energy Consumption\")\n",
    "plt.title(\"Actual vs Predicted Energy Consumption\")\n",
    "plt.show()\n"
   ]
  }
 ],
 "metadata": {
  "application/vnd.databricks.v1+notebook": {
   "dashboards": [],
   "environmentMetadata": {
    "base_environment": "",
    "client": "1"
   },
   "language": "python",
   "notebookMetadata": {
    "pythonIndentUnit": 4
   },
   "notebookName": "Energy Consumption Analysis",
   "widgets": {}
  },
  "kernelspec": {
   "display_name": "Python 3 (ipykernel)",
   "language": "python",
   "name": "python3"
  },
  "language_info": {
   "codemirror_mode": {
    "name": "ipython",
    "version": 3
   },
   "file_extension": ".py",
   "mimetype": "text/x-python",
   "name": "python",
   "nbconvert_exporter": "python",
   "pygments_lexer": "ipython3",
   "version": "3.12.7"
  }
 },
 "nbformat": 4,
 "nbformat_minor": 4
}
