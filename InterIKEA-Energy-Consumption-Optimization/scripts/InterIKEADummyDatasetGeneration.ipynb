{
 "cells": [
  {
   "cell_type": "code",
   "execution_count": 2,
   "id": "335171a5-5384-447e-aaed-f5bdb85cd44a",
   "metadata": {},
   "outputs": [],
   "source": [
    "import pandas as pd\n",
    "import numpy as np\n",
    "import random\n",
    "from datetime import datetime, timedelta\n",
    "\n",
    "# Simulate data for 30 days (1 month)\n",
    "date_range = pd.date_range(start='2024-11-01', periods=30, freq='D')\n",
    "\n",
    "# Simulate energy consumption data for different departments\n",
    "departments = ['Lighting', 'HVAC', 'Appliances', 'Office', 'Warehouse']\n",
    "energy_data = []\n",
    "\n",
    "# Random seed for reproducibility\n",
    "random.seed(42)\n",
    "\n",
    "for date in date_range:\n",
    "    for department in departments:\n",
    "        # Random energy consumption values (kWh)\n",
    "        energy_consumption = random.uniform(50, 500)  # Simulating consumption between 50kWh and 500kWh\n",
    "        energy_data.append([date, department, energy_consumption])\n",
    "\n",
    "# Convert to DataFrame\n",
    "df_energy = pd.DataFrame(energy_data, columns=['Date', 'Department', 'EnergyConsumption(kWh)'])\n",
    "\n",
    "# Save to CSV file\n",
    "df_energy.to_csv('ikea_energy_consumption.csv', index=False)\n"
   ]
  },
  {
   "cell_type": "code",
   "execution_count": 12,
   "id": "c4426265-bc08-4529-b718-c99a07eb9be8",
   "metadata": {},
   "outputs": [
    {
     "data": {
      "text/html": [
       "<div>\n",
       "<style scoped>\n",
       "    .dataframe tbody tr th:only-of-type {\n",
       "        vertical-align: middle;\n",
       "    }\n",
       "\n",
       "    .dataframe tbody tr th {\n",
       "        vertical-align: top;\n",
       "    }\n",
       "\n",
       "    .dataframe thead th {\n",
       "        text-align: right;\n",
       "    }\n",
       "</style>\n",
       "<table border=\"1\" class=\"dataframe\">\n",
       "  <thead>\n",
       "    <tr style=\"text-align: right;\">\n",
       "      <th></th>\n",
       "      <th>Date</th>\n",
       "      <th>Department</th>\n",
       "      <th>EnergyConsumption(kWh)</th>\n",
       "    </tr>\n",
       "  </thead>\n",
       "  <tbody>\n",
       "    <tr>\n",
       "      <th>0</th>\n",
       "      <td>2024-11-01</td>\n",
       "      <td>Lighting</td>\n",
       "      <td>337.742059</td>\n",
       "    </tr>\n",
       "    <tr>\n",
       "      <th>1</th>\n",
       "      <td>2024-11-01</td>\n",
       "      <td>HVAC</td>\n",
       "      <td>61.254840</td>\n",
       "    </tr>\n",
       "    <tr>\n",
       "      <th>2</th>\n",
       "      <td>2024-11-01</td>\n",
       "      <td>Appliances</td>\n",
       "      <td>173.763193</td>\n",
       "    </tr>\n",
       "    <tr>\n",
       "      <th>3</th>\n",
       "      <td>2024-11-01</td>\n",
       "      <td>Office</td>\n",
       "      <td>150.444832</td>\n",
       "    </tr>\n",
       "    <tr>\n",
       "      <th>4</th>\n",
       "      <td>2024-11-01</td>\n",
       "      <td>Warehouse</td>\n",
       "      <td>381.412046</td>\n",
       "    </tr>\n",
       "  </tbody>\n",
       "</table>\n",
       "</div>"
      ],
      "text/plain": [
       "         Date  Department  EnergyConsumption(kWh)\n",
       "0  2024-11-01    Lighting              337.742059\n",
       "1  2024-11-01        HVAC               61.254840\n",
       "2  2024-11-01  Appliances              173.763193\n",
       "3  2024-11-01      Office              150.444832\n",
       "4  2024-11-01   Warehouse              381.412046"
      ]
     },
     "execution_count": 12,
     "metadata": {},
     "output_type": "execute_result"
    }
   ],
   "source": [
    "import pandas as pd\n",
    "\n",
    "# Path to your CSV file (update this path if necessary)\n",
    "file_path = '/System/Volumes/Data/Users/navneethramachandran/sustainabilityproject/ikea_energy_consumption.csv'  # Adjust path if needed\n",
    "\n",
    "# Read the CSV file into a pandas DataFrame\n",
    "df = pd.read_csv(file_path)\n",
    "\n",
    "# Display the first few rows of the DataFrame\n",
    "df.head()\n"
   ]
  },
  {
   "cell_type": "code",
   "execution_count": 14,
   "id": "394ce674-b6eb-49da-8219-c5bfda77ed57",
   "metadata": {},
   "outputs": [
    {
     "name": "stdout",
     "output_type": "stream",
     "text": [
      "<class 'pandas.core.frame.DataFrame'>\n",
      "RangeIndex: 150 entries, 0 to 149\n",
      "Data columns (total 3 columns):\n",
      " #   Column                  Non-Null Count  Dtype  \n",
      "---  ------                  --------------  -----  \n",
      " 0   Date                    150 non-null    object \n",
      " 1   Department              150 non-null    object \n",
      " 2   EnergyConsumption(kWh)  150 non-null    float64\n",
      "dtypes: float64(1), object(2)\n",
      "memory usage: 3.6+ KB\n"
     ]
    }
   ],
   "source": [
    "# Check the structure of the dataset\n",
    "df.info()\n"
   ]
  },
  {
   "cell_type": "code",
   "execution_count": 16,
   "id": "6576b060-5953-4459-acbb-e60b398d0211",
   "metadata": {},
   "outputs": [
    {
     "data": {
      "text/plain": [
       "Date                      0\n",
       "Department                0\n",
       "EnergyConsumption(kWh)    0\n",
       "dtype: int64"
      ]
     },
     "execution_count": 16,
     "metadata": {},
     "output_type": "execute_result"
    }
   ],
   "source": [
    "# Check for missing values in the dataset\n",
    "df.isnull().sum()"
   ]
  },
  {
   "cell_type": "code",
   "execution_count": null,
   "id": "54566352-a72f-4266-9186-d9c825493989",
   "metadata": {},
   "outputs": [],
   "source": []
  }
 ],
 "metadata": {
  "kernelspec": {
   "display_name": "Python 3 (ipykernel)",
   "language": "python",
   "name": "python3"
  },
  "language_info": {
   "codemirror_mode": {
    "name": "ipython",
    "version": 3
   },
   "file_extension": ".py",
   "mimetype": "text/x-python",
   "name": "python",
   "nbconvert_exporter": "python",
   "pygments_lexer": "ipython3",
   "version": "3.12.7"
  }
 },
 "nbformat": 4,
 "nbformat_minor": 5
}
